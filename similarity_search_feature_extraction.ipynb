{
 "cells": [
  {
   "cell_type": "code",
   "execution_count": 1,
   "metadata": {},
   "outputs": [
    {
     "name": "stderr",
     "output_type": "stream",
     "text": [
      "Using TensorFlow backend.\n"
     ]
    }
   ],
   "source": [
    "from keras.preprocessing import image\n",
    "import numpy as np\n",
    "from numpy.linalg import norm\n",
    "import pickle\n",
    "import os\n",
    "import time\n",
    "from tqdm import tqdm\n",
    "from sklearn.neighbors import NearestNeighbors\n",
    "from keras.applications.mobilenet import MobileNet, preprocess_input\n",
    "from keras.models import Model\n",
    "from keras.layers import (Dense,GlobalAveragePooling2D,Input)\n"
   ]
  },
  {
   "cell_type": "code",
   "execution_count": 2,
   "metadata": {},
   "outputs": [],
   "source": [
    "import os\n",
    "root_dir = 'caltech101'\n",
    "extensions = ['.jpg', '.JPG', '.jpeg', '.JPEG', '.png', '.PNG']\n",
    "def get_file_list(dir):\n",
    "    file_list = []\n",
    "    counter = 1\n",
    "    labels = []\n",
    "    for root, directories, filenames in os.walk(dir):\n",
    "        for filename in filenames:\n",
    "            if any(ext in filename for ext in extensions):\n",
    "                file_list.append(os.path.join(root, filename))\n",
    "                counter += 1\n",
    "                labels.append(root)\n",
    "    return file_list,labels\n",
    "file_list,labels=get_file_list(root_dir)"
   ]
  },
  {
   "cell_type": "code",
   "execution_count": 11,
   "metadata": {},
   "outputs": [
    {
     "data": {
      "text/plain": [
       "'caltech101/binocular'"
      ]
     },
     "execution_count": 11,
     "metadata": {},
     "output_type": "execute_result"
    }
   ],
   "source": [
    "labels[10]"
   ]
  },
  {
   "cell_type": "code",
   "execution_count": 14,
   "metadata": {},
   "outputs": [
    {
     "data": {
      "text/plain": [
       "5124"
      ]
     },
     "execution_count": 14,
     "metadata": {},
     "output_type": "execute_result"
    }
   ],
   "source": [
    "l =pickle.load(open('data/filenames-caltech101.pickle', 'rb'))\n",
    "len(l)"
   ]
  },
  {
   "cell_type": "code",
   "execution_count": 5,
   "metadata": {},
   "outputs": [],
   "source": [
    "model =MobileNet(weights='imagenet', include_top=False, input_shape=(224, 224,3))\n",
    "model.trainable=False\n",
    "def feature_extraction(img_path, model):\n",
    "    img = image.load_img(img_path, target_size=(224,224,3))\n",
    "    img_array = image.img_to_array(img)\n",
    "    expand_img = np.expand_dims(img_array, axis=0)\n",
    "    preprocessed_img = preprocess_input(expand_img)\n",
    "    feature = model.predict(preprocessed_img)\n",
    "    flatten = feature.flatten()\n",
    "    norm_features = flatten/norm(flatten)\n",
    "    return norm_features"
   ]
  },
  {
   "cell_type": "code",
   "execution_count": 6,
   "metadata": {},
   "outputs": [],
   "source": [
    "input = Input(shape=(224,224,3))\n",
    "x = model(input)\n",
    "x =GlobalAveragePooling2D()(x)\n",
    "x =Dense(512,activation=None)(x)\n",
    "x =Dense(256, activation=None)(x)\n",
    "x =Dense(40,activation='softmax')(x)\n",
    "optimize_model =Model(inputs=input, outputs=x)\n",
    "optimize_model.compile(loss='categorical_crossentropy',optimizer=\"adam\", metrics=['accuracy'])"
   ]
  },
  {
   "cell_type": "code",
   "execution_count": 7,
   "metadata": {},
   "outputs": [
    {
     "name": "stdout",
     "output_type": "stream",
     "text": [
      "Found 8124 images belonging to 40 classes.\n",
      "Epoch 1/8\n",
      "507/507 [==============================] - 529s 1s/step - loss: 0.8760 - accuracy: 0.8213\n",
      "Epoch 2/8\n",
      "507/507 [==============================] - 528s 1s/step - loss: 0.6313 - accuracy: 0.8822\n",
      "Epoch 3/8\n",
      "507/507 [==============================] - 529s 1s/step - loss: 0.5917 - accuracy: 0.8974\n",
      "Epoch 4/8\n",
      "507/507 [==============================] - 530s 1s/step - loss: 0.5931 - accuracy: 0.9036\n",
      "Epoch 5/8\n",
      "507/507 [==============================] - 521s 1s/step - loss: 0.4958 - accuracy: 0.9155\n",
      "Epoch 6/8\n",
      "507/507 [==============================] - 1180s 2s/step - loss: 0.5546 - accuracy: 0.9128\n",
      "Epoch 7/8\n",
      "507/507 [==============================] - 530s 1s/step - loss: 0.5107 - accuracy: 0.9181\n",
      "Epoch 8/8\n",
      "507/507 [==============================] - 527s 1s/step - loss: 0.5476 - accuracy: 0.9256\n"
     ]
    },
    {
     "data": {
      "text/plain": [
       "<keras.callbacks.callbacks.History at 0x7f266c436690>"
      ]
     },
     "execution_count": 7,
     "metadata": {},
     "output_type": "execute_result"
    }
   ],
   "source": [
    "from keras.preprocessing.image import ImageDataGenerator\n",
    "root_dir = 'caltech101'\n",
    "batch_size = 16\n",
    "nb_train_samples = 8124 \n",
    "epochs = 8\n",
    "train_datagen = ImageDataGenerator(\n",
    "    rescale=1. / 255,\n",
    "    shear_range=0.2,\n",
    "    zoom_range=0.2,\n",
    "    horizontal_flip=True)\n",
    "\n",
    "train_generator = train_datagen.flow_from_directory(\n",
    "    root_dir,\n",
    "    target_size=(224,224),\n",
    "    batch_size=batch_size,\n",
    "    class_mode='categorical')\n",
    "\n",
    "optimize_model.fit_generator(\n",
    "    train_generator,\n",
    "    steps_per_epoch=nb_train_samples // batch_size,\n",
    "    epochs=epochs)\n"
   ]
  },
  {
   "cell_type": "code",
   "execution_count": 8,
   "metadata": {},
   "outputs": [],
   "source": [
    "\n",
    "optimize_model.layers.pop()\n",
    "model1 = Model(optimize_model.input, optimize_model.layers[-1].output)\n",
    "model1.save('feature_extraction_model.h5')"
   ]
  },
  {
   "cell_type": "code",
   "execution_count": 9,
   "metadata": {},
   "outputs": [
    {
     "name": "stderr",
     "output_type": "stream",
     "text": [
      "/home/ojay/anaconda3/lib/python3.7/site-packages/keras/engine/saving.py:341: UserWarning: No training configuration found in save file: the model was *not* compiled. Compile it manually.\n",
      "  warnings.warn('No training configuration found in save file: '\n",
      "100%|██████████| 8124/8124 [10:28<00:00, 12.93it/s]"
     ]
    },
    {
     "name": "stdout",
     "output_type": "stream",
     "text": [
      "256\n"
     ]
    },
    {
     "name": "stderr",
     "output_type": "stream",
     "text": [
      "\n"
     ]
    }
   ],
   "source": [
    "from keras.models import load_model\n",
    "from tqdm import tqdm\n",
    "model3 = load_model('feature_extraction_model.h5')\n",
    "feature_list = []\n",
    "for i in tqdm(range(len(file_list))):\n",
    "    feature_list.append(feature_extraction(file_list[i], model3))\n",
    "print(len(feature_list[0]))    "
   ]
  },
  {
   "cell_type": "code",
   "execution_count": 16,
   "metadata": {},
   "outputs": [],
   "source": [
    "pickle.dump(file_list, open('data/labels-caltech101.pickle', 'wb'))\n",
    "pickle.dump(feature_list, open('data/features-caltech101.pickle', 'wb'))"
   ]
  },
  {
   "cell_type": "code",
   "execution_count": null,
   "metadata": {},
   "outputs": [],
   "source": [
    "\n"
   ]
  },
  {
   "cell_type": "code",
   "execution_count": null,
   "metadata": {},
   "outputs": [],
   "source": [
    "feature_list = pickle.load(open('data/increamentalpcafeatures-caltech101.pickle', 'rb'))\n",
    "filenames = pickle.load(open('data/features/filenames-caltech101.pickle', 'rb'))"
   ]
  },
  {
   "cell_type": "code",
   "execution_count": null,
   "metadata": {},
   "outputs": [],
   "source": [
    "from keras.models import load_model\n",
    "model3 = load_model('similarity_model_improved.hdf5')\n",
    "p = filenames[10]\n",
    "print(p)\n",
    "features = feature_extraction(model3,'caltech101/binocular/image_0008.jpg')"
   ]
  },
  {
   "cell_type": "code",
   "execution_count": null,
   "metadata": {},
   "outputs": [],
   "source": []
  }
 ],
 "metadata": {
  "kernelspec": {
   "display_name": "Python 3",
   "language": "python",
   "name": "python3"
  },
  "language_info": {
   "codemirror_mode": {
    "name": "ipython",
    "version": 3
   },
   "file_extension": ".py",
   "mimetype": "text/x-python",
   "name": "python",
   "nbconvert_exporter": "python",
   "pygments_lexer": "ipython3",
   "version": "3.7.4"
  }
 },
 "nbformat": 4,
 "nbformat_minor": 2
}
